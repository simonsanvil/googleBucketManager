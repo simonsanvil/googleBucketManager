{
  "nbformat": 4,
  "nbformat_minor": 0,
  "metadata": {
    "colab": {
      "name": "colab_notebook_template.ipynb",
      "provenance": [],
      "collapsed_sections": []
    },
    "kernelspec": {
      "name": "python3",
      "display_name": "Python 3"
    },
    "language_info": {
      "name": "python"
    }
  },
  "cells": [
    {
      "cell_type": "code",
      "metadata": {
        "id": "_KCXZ_nvWV3T",
        "cellView": "form"
      },
      "source": [
        "##FROM https://medium.com/@robertbracco1/configuring-google-colab-like-a-pro-d61c253f7573\n",
        "#remove the cells that are not needed in the current project\n",
        "\n",
        "#@title Connect to a Google Cloud Bucket\n",
        "#@markdown To list Google Cloud Bucket files in this project's directory. \n",
        "\n",
        "#@markdown **Required:** You can leave these blank to read them from your environmental variables instead but it will throw and error if they are not set:\n",
        "\n",
        "import os\n",
        "from google.cloud import storage\n",
        "!pip install git+git://github.com/simonsanvil/googleBucketManager.git\n",
        "from googleBucketManager import GoogleBucketManager\n",
        "from termcolor import colored\n",
        "\n",
        "GOOGLE_APPLICATION_CREDENTIALS = '' #@param {type: \"string\"}\n",
        "BUCKET_NAME = ''#@param {type: \"string\"}\n",
        "\n",
        "#@markdown **Optional:** Leave the next parameter blank to download ALL the files in your bucket:\n",
        "FOLDER_TO_DOWNLOAD = ''#@param {type: \"string\"}\n",
        "#@markdown **Optional:** Leave the next parameter blank to set the name of the new local folder to the name of FOLDER_TO_DOWNLOAD if it is set or to the bucket name if it's not:\n",
        "\n",
        "LOCAL_FOLDER_NAME_PATH = ''#@param {type: \"string\"}\n",
        "\n",
        "if FOLDER_TO_DOWNLOAD == '':\n",
        "  FOLDER_TO_DOWNLOAD = None\n",
        "if LOCAL_FOLDER_NAME_PATH == '':\n",
        "  LOCAL_FOLDER_NAME_PATH = None\n",
        "\n",
        "#@markdown *Run this cell to download and connect your bucket files to a new local folder.*\n",
        "assert os.path.exists(GOOGLE_APPLICATION_CREDENTIALS), GOOGLE_APPLICATION_CREDENTIALS+\" path doesnt exist.\"\n",
        "if GOOGLE_APPLICATION_CREDENTIALS != '':\n",
        "  os.environ['GOOGLE_APPLICATION_CREDENTIALS'] = GOOGLE_APPLICATION_CREDENTIALS\n",
        "if BUCKET_NAME != '':\n",
        "  os.environ['BUCKET_NAME'] = BUCKET_NAME\n",
        "\n",
        "manager = GoogleBucketManager()\n",
        "new_folder = manager.download_folder(FOLDER_TO_DOWNLOAD,LOCAL_FOLDER_NAME_PATH)\n",
        "manager.link_sync(FOLDER_TO_DOWNLOAD,new_folder)\n",
        "\n",
        "assert os.path.exists(new_folder), \"Something went wrong and the folder was not created. Please try again\"\n",
        "print(colored(f\"The files in your bucket have been downloaded. Refresh your project's directory in the sidebar to see your folder.\",\"blue\"))"
      ],
      "execution_count": null,
      "outputs": []
    },
    {
      "cell_type": "markdown",
      "metadata": {
        "id": "m8xWHMS74FNC"
      },
      "source": [
        "**Dont forget** to run the following command everytime you want to sync/upload to the cloud bucket the changes you've made in this session:"
      ]
    },
    {
      "cell_type": "code",
      "metadata": {
        "id": "YJh0uWE3iE6u"
      },
      "source": [
        "#Run this command to sync the Google Cloud Bucket folder to the changes you've made in this session.\n",
        "manager.sync_bucket()"
      ],
      "execution_count": null,
      "outputs": []
    }
  ]
}